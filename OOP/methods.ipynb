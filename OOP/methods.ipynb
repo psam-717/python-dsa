{
 "cells": [
  {
   "cell_type": "markdown",
   "id": "a6127921",
   "metadata": {},
   "source": [
    "# Simple code to show the different methods in a python class"
   ]
  },
  {
   "cell_type": "code",
   "execution_count": 9,
   "id": "91e44834",
   "metadata": {},
   "outputs": [
    {
     "name": "stdout",
     "output_type": "stream",
     "text": [
      "name=Toyota\n",
      "Toyota is from Japan\n"
     ]
    }
   ],
   "source": [
    "# Instance class\n",
    "class Car:\n",
    "    country = \"Japan\"\n",
    "    def __init__(self, name):\n",
    "        self.name = name\n",
    "    \n",
    "    def country_of_origin(self):\n",
    "        return f\"{self.name} is from {Car.country}\"\n",
    "    \n",
    "    def __repr__(self):\n",
    "        return f\"name={self.name}\"\n",
    "    \n",
    "car_one = Car(\"Toyota\")\n",
    "print(car_one)\n",
    "print(car_one.country_of_origin())\n"
   ]
  },
  {
   "cell_type": "code",
   "execution_count": 10,
   "id": "4be08dac",
   "metadata": {},
   "outputs": [
    {
     "name": "stdout",
     "output_type": "stream",
     "text": [
      "Benz has four wheels 4\n",
      "All cars have 4 wheels\n"
     ]
    }
   ],
   "source": [
    "# class method\n",
    "class Car:\n",
    "    wheel = 4\n",
    "    def __init__(self, name):\n",
    "        self.name = name\n",
    "    \n",
    "    @classmethod\n",
    "    def wheel_number(cls, name):\n",
    "        return f\"{name} has four wheels {cls.wheel}\"\n",
    "    \n",
    "    @classmethod\n",
    "    def all_wheel(cls):\n",
    "        return f\"All cars have {cls.wheel} wheels\"\n",
    "    \n",
    "car_two = Car(\"Benz\")\n",
    "print(car_two.wheel_number(\"Benz\"))\n",
    "print(car_two.all_wheel())"
   ]
  },
  {
   "cell_type": "code",
   "execution_count": 13,
   "id": "4d5d33d9",
   "metadata": {},
   "outputs": [
    {
     "name": "stdout",
     "output_type": "stream",
     "text": [
      "honk honk\n"
     ]
    }
   ],
   "source": [
    "# static methods \n",
    "class Car:\n",
    "    def __init__(self, name):\n",
    "        self.name = name\n",
    "    \n",
    "    @staticmethod\n",
    "    def honk():\n",
    "        return \"honk honk\"\n",
    "car_three = Car(\"McLaren\")\n",
    "print(car_three.honk())"
   ]
  },
  {
   "cell_type": "code",
   "execution_count": null,
   "id": "5acc1216",
   "metadata": {},
   "outputs": [
    {
     "name": "stdout",
     "output_type": "stream",
     "text": [
      "Lamborghini Urus, an SUV is from Italy\n",
      "Most this type are 2 seated, except for the SUVs\n",
      "vroom vroom\n"
     ]
    }
   ],
   "source": [
    "# combination of all three types of methods\n",
    "class Car:\n",
    "    seat_number = 2\n",
    "    def __init__(self, make, model, car_type):\n",
    "        self.make = make\n",
    "        self.model = model\n",
    "        self.car_type = car_type\n",
    "        \n",
    "    def make(self):\n",
    "        return f\"{self.make}\"\n",
    "    \n",
    "    # instance method\n",
    "    def make_model_origin(self, country):\n",
    "        return f\"{self.make} {self.model}, an {self.car_type} is from {country}\"\n",
    "    \n",
    "    # class method\n",
    "    @classmethod\n",
    "    def number_of_seats(cls):\n",
    "        return f\"Most this type are {cls.seat_number} seated, except for the SUVs\"\n",
    "    \n",
    "    # static method\n",
    "    @staticmethod\n",
    "    def engine_raw():\n",
    "        return \"vroom vroom\"\n",
    "            \n",
    "\n",
    "car_four = Car(\"Lamborghini\", \"Urus\", \"SUV\")\n",
    "print(car_four.make_model_origin(\"Italy\"))\n",
    "print(car_four.number_of_seats())\n",
    "print(car_four.engine_raw())"
   ]
  },
  {
   "cell_type": "code",
   "execution_count": null,
   "id": "782179d4",
   "metadata": {},
   "outputs": [],
   "source": []
  }
 ],
 "metadata": {
  "kernelspec": {
   "display_name": "base",
   "language": "python",
   "name": "python3"
  },
  "language_info": {
   "codemirror_mode": {
    "name": "ipython",
    "version": 3
   },
   "file_extension": ".py",
   "mimetype": "text/x-python",
   "name": "python",
   "nbconvert_exporter": "python",
   "pygments_lexer": "ipython3",
   "version": "3.12.7"
  }
 },
 "nbformat": 4,
 "nbformat_minor": 5
}
